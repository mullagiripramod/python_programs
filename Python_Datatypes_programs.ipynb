{
 "cells": [
  {
   "cell_type": "code",
   "execution_count": null,
   "metadata": {},
   "outputs": [],
   "source": [
    "# String Concatenate: Write a program by taking input as 'python' get the output as 'mython'"
   ]
  },
  {
   "cell_type": "code",
   "execution_count": null,
   "metadata": {},
   "outputs": [],
   "source": [
    "# String Slicing : Write a program by taking input as 'python' using slicing to get output as 'PTO'"
   ]
  },
  {
   "cell_type": "code",
   "execution_count": null,
   "metadata": {},
   "outputs": [],
   "source": [
    "# String Operations: Write a program to get the Output as KFC by taking following input \n",
    "# Hint :Take k from kentucky, f from fried and c from chicken and converting the string to upper case\n",
    "a=[[1,0,2.5,\"kentucky\"],\"fried\",3.5,[\"chicken\",3,4.5]]"
   ]
  },
  {
   "cell_type": "code",
   "execution_count": null,
   "metadata": {},
   "outputs": [],
   "source": [
    "# String operations: Write a program to get output as 15AYo1B by taking following input\n",
    "b=['15',2,3,[\"a\",4,6,4.5],[\"y\",'o',5],'1','b']"
   ]
  },
  {
   "cell_type": "code",
   "execution_count": null,
   "metadata": {},
   "outputs": [],
   "source": [
    "# List Operations: write a program to get the output as 'Jack stayed in United States and Studied in Python'\n",
    "a=[1,2,3,['Jack',4,5,['United Sates',6,7,8,['Python']]]]"
   ]
  },
  {
   "cell_type": "code",
   "execution_count": null,
   "metadata": {},
   "outputs": [],
   "source": [
    "# Dictionary operations: Write a program to convert lower case 'a' to upper case 'A'\n",
    "d={\"pramod\":{\"kadapa\":{\"ksrm\":[1,2,3,[4,2.5,\"a\"]]}}}"
   ]
  },
  {
   "cell_type": "code",
   "execution_count": null,
   "metadata": {},
   "outputs": [],
   "source": [
    "# Tuple operations: Write a program to convert lower case 'c' to upper case 'C'\n",
    "f=(1,2,3,{\"kadapa\":{\"wqlr\":{\"python\":[20,30,40,[\"a\",\"b\",\"c\"]]}}})"
   ]
  }
 ],
 "metadata": {
  "kernelspec": {
   "display_name": "Python 3",
   "language": "python",
   "name": "python3"
  },
  "language_info": {
   "codemirror_mode": {
    "name": "ipython",
    "version": 3
   },
   "file_extension": ".py",
   "mimetype": "text/x-python",
   "name": "python",
   "nbconvert_exporter": "python",
   "pygments_lexer": "ipython3",
   "version": "3.7.1"
  }
 },
 "nbformat": 4,
 "nbformat_minor": 2
}
