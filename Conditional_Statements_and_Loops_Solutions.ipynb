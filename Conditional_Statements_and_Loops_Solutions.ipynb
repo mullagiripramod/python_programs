{
 "cells": [
  {
   "cell_type": "code",
   "execution_count": null,
   "metadata": {},
   "outputs": [],
   "source": [
    "Write a program if the number is the multiple of 2 print ’pay’ ,if it is the multiple of 3 print ‘bill’, \n",
    "if it is the multiple of 2 and 3 print ‘paybill’(number lies between 0 and 20)"
   ]
  },
  {
   "cell_type": "code",
   "execution_count": 2,
   "metadata": {},
   "outputs": [
    {
     "name": "stdout",
     "output_type": "stream",
     "text": [
      "2 = pay\n",
      "3 = bill\n",
      "4 = pay\n",
      "6 = pay bill\n",
      "8 = pay\n",
      "9 = bill\n",
      "10 = pay\n",
      "12 = pay bill\n",
      "14 = pay\n",
      "15 = bill\n",
      "16 = pay\n",
      "18 = pay bill\n",
      "20 = pay\n"
     ]
    }
   ],
   "source": [
    "for i in range(1,21):\n",
    "    if(i%2==0 and i%3==0):\n",
    "        print(i,\"=\",\"pay bill\")\n",
    "    elif(i%2==0):\n",
    "        print(i,\"=\",\"pay\")\n",
    "    elif(i%3==0):\t\t\t\n",
    "        print(i,\"=\",\"bill\")"
   ]
  },
  {
   "cell_type": "code",
   "execution_count": null,
   "metadata": {},
   "outputs": [],
   "source": [
    "Using logical operators print your name when the number is the multiple of either 4 or 7 (input dynamically)"
   ]
  },
  {
   "cell_type": "code",
   "execution_count": 1,
   "metadata": {},
   "outputs": [
    {
     "name": "stdout",
     "output_type": "stream",
     "text": [
      "enter a number : 16\n",
      "Pramod\n"
     ]
    }
   ],
   "source": [
    "a=int(input(\"enter a number : \"))\n",
    "if(a%4==0 or a%7==0):\n",
    "    print('Pramod')\n",
    "else:\n",
    "    print('I dont know my name')\n"
   ]
  },
  {
   "cell_type": "code",
   "execution_count": null,
   "metadata": {},
   "outputs": [],
   "source": [
    "print the starting letters of every word and convert to uppercase from the following input \n",
    "a=”I want to learn python”\n"
   ]
  },
  {
   "cell_type": "code",
   "execution_count": 3,
   "metadata": {},
   "outputs": [
    {
     "name": "stdout",
     "output_type": "stream",
     "text": [
      "IWTLP\n"
     ]
    }
   ],
   "source": [
    "a='I want to learn python'\n",
    "b=\"\"\n",
    "for i in a.split():\n",
    "    b+=i[0].upper()\n",
    "print(b)\n"
   ]
  },
  {
   "cell_type": "code",
   "execution_count": null,
   "metadata": {},
   "outputs": [],
   "source": [
    "print the words having even number of characters from the sentence \n",
    "x=”I am going to Newyork”?"
   ]
  },
  {
   "cell_type": "code",
   "execution_count": 5,
   "metadata": {},
   "outputs": [
    {
     "name": "stdout",
     "output_type": "stream",
     "text": [
      "am\n",
      "to\n"
     ]
    }
   ],
   "source": [
    "x='I am going to Newyork'\n",
    "\n",
    "for i in x.split():\n",
    "    if(len(i)%2==0):\n",
    "        print(i)\n",
    "    "
   ]
  },
  {
   "cell_type": "code",
   "execution_count": null,
   "metadata": {},
   "outputs": [],
   "source": [
    "Take a list of numbers from 1 to 10 and get 2 multiples as a list and 3 multiples as a list and 5 multiples as a list"
   ]
  },
  {
   "cell_type": "code",
   "execution_count": 6,
   "metadata": {},
   "outputs": [
    {
     "name": "stdout",
     "output_type": "stream",
     "text": [
      "[2, 4, 6, 8, 10]\n",
      "[5, 10]\n",
      "[3, 6, 9]\n"
     ]
    }
   ],
   "source": [
    "a=[1,2,3,4,5,6,7,8,9,10]\n",
    "k=[ ]\n",
    "y=[ ]\n",
    "z=[ ]\n",
    "for i in a:\n",
    "    if(i%2==0):\n",
    "         k=k+[i]\n",
    "    if(i%3==0):\n",
    "        z=z+[i]\n",
    "    if(i%5==0):\n",
    "        y=y+[i]\n",
    "\n",
    "print(k)\n",
    "print(y)\n",
    "print(z)\n"
   ]
  },
  {
   "cell_type": "code",
   "execution_count": null,
   "metadata": {},
   "outputs": [],
   "source": []
  }
 ],
 "metadata": {
  "kernelspec": {
   "display_name": "Python 3",
   "language": "python",
   "name": "python3"
  },
  "language_info": {
   "codemirror_mode": {
    "name": "ipython",
    "version": 3
   },
   "file_extension": ".py",
   "mimetype": "text/x-python",
   "name": "python",
   "nbconvert_exporter": "python",
   "pygments_lexer": "ipython3",
   "version": "3.7.1"
  }
 },
 "nbformat": 4,
 "nbformat_minor": 2
}
