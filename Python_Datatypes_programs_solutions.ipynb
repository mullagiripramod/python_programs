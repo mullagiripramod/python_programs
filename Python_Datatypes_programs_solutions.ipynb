{
 "cells": [
  {
   "cell_type": "code",
   "execution_count": 17,
   "metadata": {},
   "outputs": [
    {
     "name": "stdout",
     "output_type": "stream",
     "text": [
      "mython\n"
     ]
    }
   ],
   "source": [
    "# String Concatenate: Write a program by taking input as 'python' to get the output as 'mython'\n",
    "a=\"python\"\n",
    "c=\"m\"+a[1::]\n",
    "print(c)"
   ]
  },
  {
   "cell_type": "code",
   "execution_count": 19,
   "metadata": {},
   "outputs": [
    {
     "name": "stdout",
     "output_type": "stream",
     "text": [
      "PTO\n"
     ]
    }
   ],
   "source": [
    "# String Slicing : Write a program by taking input as 'python' using slicing to get output as 'PTO'\n",
    "a='python'\n",
    "b=a[0:6:2]\n",
    "print(b.upper())"
   ]
  },
  {
   "cell_type": "code",
   "execution_count": null,
   "metadata": {},
   "outputs": [],
   "source": [
    "# Write a program to get the Output as KFC by indexing \n",
    "# Hint :Take k from kentucky, f from fried and c from chicken and converting the string to upper case\n",
    "a=[[1,0,2.5,\"kentucky\"],\"fried\",3.5,[\"chicken\",3,4.5]]"
   ]
  },
  {
   "cell_type": "code",
   "execution_count": null,
   "metadata": {},
   "outputs": [],
   "source": [
    "# write a program to get output as 15AYo1B\n",
    "b=['15',2,3,[\"a\",4,6,4.5],[\"y\",'o',5],'1','b']\n",
    "print(b[0]+b[3][0].upper()+b[4][0].upper()+b[4][1]+b[5]+b[6].upper())"
   ]
  },
  {
   "cell_type": "code",
   "execution_count": 16,
   "metadata": {},
   "outputs": [
    {
     "name": "stdout",
     "output_type": "stream",
     "text": [
      "Jack studied in United Sates and studied Python\n"
     ]
    }
   ],
   "source": [
    "# List Operations: write a program to get the output as 'Jack stayed in United States and Studied in Python'\n",
    "a=[1,2,3,['Jack',4,5,['United Sates',6,7,8,['Python']]]]\n",
    "print(f\"{a[3][0]} studied in {a[3][3][0]} and studied {a[3][3][4][0]}\")"
   ]
  },
  {
   "cell_type": "code",
   "execution_count": 21,
   "metadata": {},
   "outputs": [
    {
     "name": "stdout",
     "output_type": "stream",
     "text": [
      "A\n"
     ]
    }
   ],
   "source": [
    "# Dictionary operations: Write a program to convert lower case 'a' to upper case 'A'\n",
    "d={\"pramod\":{\"kadapa\":{\"ksrm\":[1,2,3,[4,2.5,\"a\"]]}}}\n",
    "e=d[\"pramod\"][\"kadapa\"][\"ksrm\"][3][2].upper()\n",
    "print(e)"
   ]
  },
  {
   "cell_type": "code",
   "execution_count": 22,
   "metadata": {},
   "outputs": [
    {
     "name": "stdout",
     "output_type": "stream",
     "text": [
      "C\n"
     ]
    }
   ],
   "source": [
    "# Tuple operations: Write a program to convert lower case 'c' to upper case 'C'\n",
    "f=(1,2,3,{\"kadapa\":{\"wqlr\":{\"python\":[20,30,40,[\"a\",\"b\",\"c\"]]}}})\n",
    "g=(f[3][\"kadapa\"][\"wqlr\"][\"python\"][3][2].upper())\n",
    "print(g)"
   ]
  }
 ],
 "metadata": {
  "kernelspec": {
   "display_name": "Python 3",
   "language": "python",
   "name": "python3"
  },
  "language_info": {
   "codemirror_mode": {
    "name": "ipython",
    "version": 3
   },
   "file_extension": ".py",
   "mimetype": "text/x-python",
   "name": "python",
   "nbconvert_exporter": "python",
   "pygments_lexer": "ipython3",
   "version": "3.7.1"
  }
 },
 "nbformat": 4,
 "nbformat_minor": 2
}
